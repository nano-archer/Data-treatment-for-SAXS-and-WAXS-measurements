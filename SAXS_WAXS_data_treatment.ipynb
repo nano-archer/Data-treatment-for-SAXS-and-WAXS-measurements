{
 "cells": [
  {
   "cell_type": "code",
   "execution_count": 2,
   "metadata": {
    "collapsed": true
   },
   "outputs": [],
   "source": [
    "import matplotlib.pyplot as plt\n",
    "import numpy as np\n",
    "import math"
   ]
  },
  {
   "cell_type": "code",
   "execution_count": 3,
   "metadata": {},
   "outputs": [
    {
     "data": {
      "text/plain": [
       "'NOTES'"
      ]
     },
     "execution_count": 3,
     "metadata": {},
     "output_type": "execute_result"
    }
   ],
   "source": [
    "'''NOTES'''\n",
    "# 21 is WAXS and plottet with red \n",
    "# 24 is SAXS and plottet with blue"
   ]
  },
  {
   "cell_type": "code",
   "execution_count": null,
   "metadata": {
    "collapsed": true
   },
   "outputs": [],
   "source": []
  },
  {
   "cell_type": "code",
   "execution_count": 4,
   "metadata": {
    "collapsed": true
   },
   "outputs": [],
   "source": [
    "# Data import and plotting of raw data"
   ]
  },
  {
   "cell_type": "code",
   "execution_count": 5,
   "metadata": {
    "collapsed": true
   },
   "outputs": [],
   "source": [
    "# PET 21\n",
    "# Original file name: latest_0045867_caz_Reduced.rad\n",
    "# Edited file name: data_PET_21.txt"
   ]
  },
  {
   "cell_type": "code",
   "execution_count": 6,
   "metadata": {},
   "outputs": [],
   "source": [
    "# Opening and reading data-file.\n",
    "data = open('/Users/QDevMaster12/Dropbox/SAXS_WAXS/Data/data_PET_21.txt', 'r')\n",
    "\n",
    "q_value = [] #in angstrom\n",
    "intensity = [] #evaluated from \"no sample\"\n",
    "stat_int = [] #statistical uncertainty for intensity\n",
    "                   \n",
    "for line in data:\n",
    "    # Split on any whitespace (including tab characters)\n",
    "    row = line.split()\n",
    "    # Convert strings to numeric values:\n",
    "    row[0] = float(row[0])\n",
    "    row[1] = float(row[1])\n",
    "    row[2] = float(row[2])\n",
    "    # Append to our list of lists:\n",
    "    q_value.append(row[0])\n",
    "    intensity.append(row[1])\n",
    "    stat_int.append(row[2])"
   ]
  },
  {
   "cell_type": "code",
   "execution_count": 7,
   "metadata": {
    "collapsed": true
   },
   "outputs": [],
   "source": [
    "# Saving values in new lists\n",
    "q_PET_21 = q_value\n",
    "int_PET_21 = intensity\n",
    "stat_PET_21 = stat_int"
   ]
  },
  {
   "cell_type": "code",
   "execution_count": 8,
   "metadata": {},
   "outputs": [],
   "source": [
    "# Plotting and saving raw, un-corrected data\n",
    "plt.cla()\n",
    "plt.clf()\n",
    "plt.plot(q_PET_21, int_PET_21, 'r')\n",
    "plt.xlabel(\"$q/Angstrom$\")\n",
    "plt.ylabel(\"Intensity\")\n",
    "plt.title(\"PET 21\")\n",
    "#plt.xlim(0.05,2.25)\n",
    "#plt.show()\n",
    "plt.savefig(\"PET_21.pdf\")"
   ]
  },
  {
   "cell_type": "code",
   "execution_count": null,
   "metadata": {
    "collapsed": true
   },
   "outputs": [],
   "source": []
  },
  {
   "cell_type": "code",
   "execution_count": null,
   "metadata": {
    "collapsed": true
   },
   "outputs": [],
   "source": []
  },
  {
   "cell_type": "code",
   "execution_count": 9,
   "metadata": {
    "collapsed": true
   },
   "outputs": [],
   "source": [
    "# AgBH 21\n",
    "# Original file name: latest_0045868_caz_Reduced.rad\n",
    "# Edited file name: data_AgBH_21.txt"
   ]
  },
  {
   "cell_type": "code",
   "execution_count": 10,
   "metadata": {
    "collapsed": true
   },
   "outputs": [],
   "source": [
    "# Opening and reading data-file.\n",
    "data = open('/Users/QDevMaster12/Dropbox/SAXS_WAXS/Data/data_AgBH_21.txt', 'r')\n",
    "\n",
    "q_value = [] #in angstrom\n",
    "intensity = [] #evaluated from \"no sample\"\n",
    "stat_int = [] #statistical uncertainty for intensity\n",
    "                   \n",
    "for line in data:\n",
    "    # Split on any whitespace (including tab characters)\n",
    "    row = line.split()\n",
    "    # Convert strings to numeric values:\n",
    "    row[0] = float(row[0])\n",
    "    row[1] = float(row[1])\n",
    "    row[2] = float(row[2])\n",
    "    # Append to our list of lists:\n",
    "    q_value.append(row[0])\n",
    "    intensity.append(row[1])\n",
    "    stat_int.append(row[2])"
   ]
  },
  {
   "cell_type": "code",
   "execution_count": 11,
   "metadata": {
    "collapsed": true
   },
   "outputs": [],
   "source": [
    "# Saving values in new lists\n",
    "q_AgBH_21 = q_value\n",
    "int_AgBH_21 = intensity\n",
    "stat_AgBH_21 = stat_int"
   ]
  },
  {
   "cell_type": "code",
   "execution_count": 12,
   "metadata": {},
   "outputs": [],
   "source": [
    "# Plotting and saving raw, un-corrected data\n",
    "plt.cla()\n",
    "plt.clf()\n",
    "plt.plot(q_AgBH_21, int_AgBH_21, 'r')\n",
    "plt.xlabel(\"$q/Angstrom$\")\n",
    "plt.ylabel(\"Intensity\")\n",
    "plt.title(\"AgBH 21\")\n",
    "#plt.xlim(0.05,2.25)\n",
    "#plt.show()\n",
    "plt.savefig(\"AgBH_21.pdf\")"
   ]
  },
  {
   "cell_type": "code",
   "execution_count": null,
   "metadata": {
    "collapsed": true
   },
   "outputs": [],
   "source": []
  },
  {
   "cell_type": "code",
   "execution_count": 13,
   "metadata": {
    "collapsed": true
   },
   "outputs": [],
   "source": [
    "# PET 24\n",
    "# Original file name: latest_0045869_caz_Reduced.rad\n",
    "# Edited file name: data_PET_24.txt"
   ]
  },
  {
   "cell_type": "code",
   "execution_count": 14,
   "metadata": {
    "collapsed": true
   },
   "outputs": [],
   "source": [
    "# Opening and reading data-file.\n",
    "data = open('/Users/QDevMaster12/Dropbox/SAXS_WAXS/Data/data_PET_24.txt', 'r')\n",
    "\n",
    "q_value = [] #in angstrom\n",
    "intensity = [] #evaluated from \"no sample\"\n",
    "stat_int = [] #statistical uncertainty for intensity\n",
    "                   \n",
    "for line in data:\n",
    "    # Split on any whitespace (including tab characters)\n",
    "    row = line.split()\n",
    "    # Convert strings to numeric values:\n",
    "    row[0] = float(row[0])\n",
    "    row[1] = float(row[1])\n",
    "    row[2] = float(row[2])\n",
    "    # Append to our list of lists:\n",
    "    q_value.append(row[0])\n",
    "    intensity.append(row[1])\n",
    "    stat_int.append(row[2])"
   ]
  },
  {
   "cell_type": "code",
   "execution_count": 15,
   "metadata": {
    "collapsed": true
   },
   "outputs": [],
   "source": [
    "# Saving values in new lists\n",
    "q_PET_24 = q_value\n",
    "int_PET_24 = intensity\n",
    "stat_PET_24 = stat_int"
   ]
  },
  {
   "cell_type": "code",
   "execution_count": 16,
   "metadata": {},
   "outputs": [],
   "source": [
    "# Plotting and saving raw, un-corrected data\n",
    "plt.cla()\n",
    "plt.clf()\n",
    "plt.plot(q_PET_24, int_PET_24, 'b')\n",
    "plt.xlabel(\"$q/Angstrom$\")\n",
    "plt.ylabel(\"Intensity\")\n",
    "plt.title(\"PET 24\")\n",
    "#plt.xlim(0.05,2.25)\n",
    "#plt.show()\n",
    "plt.savefig(\"PET_24.pdf\")"
   ]
  },
  {
   "cell_type": "code",
   "execution_count": null,
   "metadata": {
    "collapsed": true
   },
   "outputs": [],
   "source": []
  },
  {
   "cell_type": "code",
   "execution_count": 17,
   "metadata": {
    "collapsed": true
   },
   "outputs": [],
   "source": [
    "# AgBH 24\n",
    "# Original file name: latest_0045870_caz_Reduced.rad\n",
    "# Edited file name: data_AgBH_24.txt"
   ]
  },
  {
   "cell_type": "code",
   "execution_count": 18,
   "metadata": {
    "collapsed": true
   },
   "outputs": [],
   "source": [
    "# Opening and reading data-file.\n",
    "data = open('/Users/QDevMaster12/Dropbox/SAXS_WAXS/Data/data_AgBH_24.txt', 'r')\n",
    "\n",
    "q_value = [] #in angstrom\n",
    "intensity = [] #evaluated from \"no sample\"\n",
    "stat_int = [] #statistical uncertainty for intensity\n",
    "                   \n",
    "for line in data:\n",
    "    # Split on any whitespace (including tab characters)\n",
    "    row = line.split()\n",
    "    # Convert strings to numeric values:\n",
    "    row[0] = float(row[0])\n",
    "    row[1] = float(row[1])\n",
    "    row[2] = float(row[2])\n",
    "    # Append to our list of lists:\n",
    "    q_value.append(row[0])\n",
    "    intensity.append(row[1])\n",
    "    stat_int.append(row[2])"
   ]
  },
  {
   "cell_type": "code",
   "execution_count": 19,
   "metadata": {
    "collapsed": true
   },
   "outputs": [],
   "source": [
    "# Saving values in new lists\n",
    "q_AgBH_24 = q_value\n",
    "int_AgBH_24 = intensity\n",
    "stat_AgBH_24 = stat_int"
   ]
  },
  {
   "cell_type": "code",
   "execution_count": 20,
   "metadata": {},
   "outputs": [],
   "source": [
    "# Plotting and saving raw, un-corrected data\n",
    "plt.cla()\n",
    "plt.clf()\n",
    "plt.plot(q_AgBH_24, int_AgBH_24, 'b')\n",
    "plt.xlabel(\"$q/Angstrom$\")\n",
    "plt.ylabel(\"Intensity\")\n",
    "plt.title(\"AgBH 24\")\n",
    "#plt.xlim(0.05,2.25)\n",
    "#plt.show()\n",
    "plt.savefig(\"AgBH_24.pdf\")"
   ]
  },
  {
   "cell_type": "code",
   "execution_count": null,
   "metadata": {
    "collapsed": true
   },
   "outputs": [],
   "source": []
  },
  {
   "cell_type": "code",
   "execution_count": 21,
   "metadata": {
    "collapsed": true
   },
   "outputs": [],
   "source": [
    "# Stretched PET 24\n",
    "# Original file name: latest_0045871_caz_Reduced.rad\n",
    "# Edited file name: data_PET_stretch_24.txt"
   ]
  },
  {
   "cell_type": "code",
   "execution_count": 22,
   "metadata": {
    "collapsed": true
   },
   "outputs": [],
   "source": [
    "# Opening and reading data-file.\n",
    "data = open('/Users/QDevMaster12/Dropbox/SAXS_WAXS/Data/data_PET_stretch_24.txt', 'r')\n",
    "\n",
    "q_value = [] #in angstrom\n",
    "intensity = [] #evaluated from \"no sample\"\n",
    "stat_int = [] #statistical uncertainty for intensity\n",
    "                   \n",
    "for line in data:\n",
    "    # Split on any whitespace (including tab characters)\n",
    "    row = line.split()\n",
    "    # Convert strings to numeric values:\n",
    "    row[0] = float(row[0])\n",
    "    row[1] = float(row[1])\n",
    "    row[2] = float(row[2])\n",
    "    # Append to our list of lists:\n",
    "    q_value.append(row[0])\n",
    "    intensity.append(row[1])\n",
    "    stat_int.append(row[2])"
   ]
  },
  {
   "cell_type": "code",
   "execution_count": 23,
   "metadata": {
    "collapsed": true
   },
   "outputs": [],
   "source": [
    "# Saving values in new lists\n",
    "q_PET_stretch_24 = q_value\n",
    "int_PET_stretch_24 = intensity\n",
    "stat_PET_stretch_24 = stat_int"
   ]
  },
  {
   "cell_type": "code",
   "execution_count": 24,
   "metadata": {},
   "outputs": [],
   "source": [
    "# Plotting and saving raw, un-corrected data\n",
    "plt.cla()\n",
    "plt.clf()\n",
    "plt.plot(q_PET_stretch_24, int_PET_stretch_24, 'b')\n",
    "plt.xlabel(\"$q/Angstrom$\")\n",
    "plt.ylabel(\"Intensity\")\n",
    "plt.title(\"PET Stretched 24\")\n",
    "#plt.xlim(0.05,2.25)\n",
    "#plt.show()\n",
    "plt.savefig(\"PET_stretch_24.pdf\")"
   ]
  },
  {
   "cell_type": "code",
   "execution_count": null,
   "metadata": {
    "collapsed": true
   },
   "outputs": [],
   "source": []
  },
  {
   "cell_type": "code",
   "execution_count": 25,
   "metadata": {
    "collapsed": true
   },
   "outputs": [],
   "source": [
    "# Stretched PET 21\n",
    "# Original file name: latest_0045872_caz_Reduced.rad\n",
    "# Edited file name: data_PET_stretch_21.txt"
   ]
  },
  {
   "cell_type": "code",
   "execution_count": 26,
   "metadata": {
    "collapsed": true
   },
   "outputs": [],
   "source": [
    "# Opening and reading data-file.\n",
    "data = open('/Users/QDevMaster12/Dropbox/SAXS_WAXS/Data/data_PET_stretch_21.txt', 'r')\n",
    "\n",
    "q_value = [] #in angstrom\n",
    "intensity = [] #evaluated from \"no sample\"\n",
    "stat_int = [] #statistical uncertainty for intensity\n",
    "                   \n",
    "for line in data:\n",
    "    # Split on any whitespace (including tab characters)\n",
    "    row = line.split()\n",
    "    # Convert strings to numeric values:\n",
    "    row[0] = float(row[0])\n",
    "    row[1] = float(row[1])\n",
    "    row[2] = float(row[2])\n",
    "    # Append to our list of lists:\n",
    "    q_value.append(row[0])\n",
    "    intensity.append(row[1])\n",
    "    stat_int.append(row[2])"
   ]
  },
  {
   "cell_type": "code",
   "execution_count": 27,
   "metadata": {
    "collapsed": true
   },
   "outputs": [],
   "source": [
    "# Saving values in new lists\n",
    "q_PET_stretch_21 = q_value\n",
    "int_PET_stretch_21 = intensity\n",
    "stat_PET_stretch_21 = stat_int"
   ]
  },
  {
   "cell_type": "code",
   "execution_count": 28,
   "metadata": {},
   "outputs": [],
   "source": [
    "# Plotting and saving raw, un-corrected data\n",
    "plt.cla()\n",
    "plt.clf()\n",
    "plt.plot(q_PET_stretch_21, int_PET_stretch_21, 'r')\n",
    "plt.xlabel(\"$q/Angstrom$\")\n",
    "plt.ylabel(\"Intensity\")\n",
    "plt.title(\"PET Stretched 21\")\n",
    "#plt.xlim(0.05,2.25)\n",
    "#plt.show()\n",
    "plt.savefig(\"PET_stretch_21.pdf\")"
   ]
  },
  {
   "cell_type": "code",
   "execution_count": null,
   "metadata": {
    "collapsed": true
   },
   "outputs": [],
   "source": []
  },
  {
   "cell_type": "code",
   "execution_count": 29,
   "metadata": {},
   "outputs": [
    {
     "data": {
      "text/plain": [
       "'Data treatment'"
      ]
     },
     "execution_count": 29,
     "metadata": {},
     "output_type": "execute_result"
    }
   ],
   "source": [
    "'''Data treatment'''"
   ]
  },
  {
   "cell_type": "code",
   "execution_count": 30,
   "metadata": {
    "collapsed": true
   },
   "outputs": [],
   "source": [
    "# Putting WA and SA together"
   ]
  },
  {
   "cell_type": "code",
   "execution_count": 31,
   "metadata": {
    "collapsed": true
   },
   "outputs": [],
   "source": [
    "# PET 21 + PET 24"
   ]
  },
  {
   "cell_type": "code",
   "execution_count": 32,
   "metadata": {},
   "outputs": [],
   "source": [
    "# Plotting them uncorrected\n",
    "plt.cla()\n",
    "plt.clf()\n",
    "plt.subplot(2, 1, 1)\n",
    "plt.plot(q_PET_21, int_PET_21, 'r')\n",
    "plt.xlabel(\"$q/Angstrom$\")\n",
    "plt.ylabel(\"Intensity\")\n",
    "plt.subplot(2, 1, 2)\n",
    "plt.plot(q_PET_24, int_PET_24, 'b')\n",
    "plt.xlabel(\"$q/Angstrom$\")\n",
    "plt.ylabel(\"Intensity\")\n",
    "#plt.title(\"PET full\")\n",
    "plt.xlim(0,2.25)\n",
    "#plt.show()\n",
    "plt.savefig(\"PET_full_uncorrected.pdf\")"
   ]
  },
  {
   "cell_type": "code",
   "execution_count": 33,
   "metadata": {
    "collapsed": true
   },
   "outputs": [],
   "source": [
    "# Factor the intensities up:\n",
    "factor_PET = 0.010/0.00004 #0.00004/0.010\n",
    "new_int_PET_24 = []\n",
    "\n",
    "for i in range(len(int_PET_24)):\n",
    "    x = int_PET_24[i]*factor_PET\n",
    "    new_int_PET_24.append(x)"
   ]
  },
  {
   "cell_type": "code",
   "execution_count": 34,
   "metadata": {},
   "outputs": [],
   "source": [
    "# Plotting new corrected plots\n",
    "plt.cla()\n",
    "plt.clf()\n",
    "#plt.subplot(2, 1, 1)\n",
    "plt.plot(q_PET_21, int_PET_21, 'r', label='PET WAXS')\n",
    "#plt.xlabel(\"$q/Angstrom$\")\n",
    "#plt.ylabel(\"Intensity\")\n",
    "#plt.subplot(2, 1, 2)\n",
    "plt.plot(q_PET_24, new_int_PET_24, 'b', label='PET SAXS')\n",
    "plt.xlabel(\"$q/Angstrom$\")\n",
    "plt.ylabel(\"Intensity\")\n",
    "plt.legend()\n",
    "#plt.title(\"PET full\")\n",
    "plt.xlim(0,2.25)\n",
    "#plt.show()\n",
    "plt.savefig(\"PET_full_corrected.pdf\")"
   ]
  },
  {
   "cell_type": "code",
   "execution_count": 48,
   "metadata": {},
   "outputs": [
    {
     "data": {
      "image/png": "[encoded data removed]",
      "text/plain": [
       "<matplotlib.figure.Figure at 0x115252b70>"
      ]
     },
     "metadata": {},
     "output_type": "display_data"
    }
   ],
   "source": [
    "# Plotting them together\n",
    "q_PET_full = []\n",
    "int_PET_full = []\n",
    "\n",
    "for i in range(len(q_PET_21)):\n",
    "    x = (q_PET_21[i] + q_PET_24[i])/2\n",
    "    q_PET_full.append(x)\n",
    "    y = int_PET_21[i] + new_int_PET_24[i]\n",
    "    int_PET_full.append(y)\n",
    "\n",
    "plt.cla()\n",
    "plt.clf()\n",
    "#plt.subplot(2, 1, 1)\n",
    "plt.plot(q_PET_full, int_PET_full, 'g')\n",
    "#plt.xlabel(\"$q/Angstrom$\")\n",
    "#plt.ylabel(\"Intensity\")\n",
    "#plt.title(\"PET full\")\n",
    "plt.xlim(0,2.25)\n",
    "#plt.subplot(2, 1, 2)\n",
    "#plt.plot(q_PET_21, int_PET_21, 'r')\n",
    "#plt.plot(q_PET_24, new_int_PET_24, 'b')\n",
    "plt.xlabel(\"$q/Angstrom$\")\n",
    "plt.ylabel(\"Intensity\")\n",
    "plt.show()\n",
    "#plt.savefig(\"PET_full_done.pdf\")"
   ]
  },
  {
   "cell_type": "code",
   "execution_count": null,
   "metadata": {
    "collapsed": true
   },
   "outputs": [],
   "source": []
  },
  {
   "cell_type": "code",
   "execution_count": 36,
   "metadata": {},
   "outputs": [],
   "source": [
    "# AgBH 21 + AgBH 24"
   ]
  },
  {
   "cell_type": "code",
   "execution_count": 37,
   "metadata": {},
   "outputs": [],
   "source": [
    "# Plotting them uncorrected\n",
    "plt.cla()\n",
    "plt.clf()\n",
    "plt.subplot(2, 1, 1)\n",
    "plt.plot(q_AgBH_21, int_AgBH_21, 'r')\n",
    "plt.xlabel(\"$q/Angstrom$\")\n",
    "plt.ylabel(\"Intensity\")\n",
    "plt.subplot(2, 1, 2)\n",
    "plt.plot(q_AgBH_24, int_AgBH_24, 'b')\n",
    "plt.xlabel(\"$q/Angstrom$\")\n",
    "plt.ylabel(\"Intensity\")\n",
    "#plt.title(\"PET full\")\n",
    "plt.xlim(0,2.25)\n",
    "#plt.show()\n",
    "plt.savefig(\"AgBH_full_uncorrected.pdf\")"
   ]
  },
  {
   "cell_type": "code",
   "execution_count": 38,
   "metadata": {
    "collapsed": true
   },
   "outputs": [],
   "source": [
    "# Factor the intensities up:\n",
    "factor_AgBH = 2/0.075\n",
    "new_int_AgBH_24 = []\n",
    "\n",
    "for i in range(len(int_AgBH_24)):\n",
    "    x = int_AgBH_24[i]*factor_AgBH\n",
    "    new_int_AgBH_24.append(x)"
   ]
  },
  {
   "cell_type": "code",
   "execution_count": 39,
   "metadata": {},
   "outputs": [],
   "source": [
    "# Plotting new corrected plots\n",
    "plt.cla()\n",
    "plt.clf()\n",
    "#plt.subplot(2, 1, 1)\n",
    "plt.plot(q_AgBH_21, int_AgBH_21, 'r', label='AgBH WAXS')\n",
    "#plt.xlabel(\"$q/Angstrom$\")\n",
    "#plt.ylabel(\"Intensity\")\n",
    "#plt.subplot(2, 1, 2)\n",
    "plt.plot(q_AgBH_24, new_int_AgBH_24, 'b', label='AgBH SAXS')\n",
    "plt.xlabel(\"$q/Angstrom$\")\n",
    "plt.ylabel(\"Intensity\")\n",
    "plt.legend()\n",
    "#plt.title(\"AgBH full\")\n",
    "plt.xlim(0,2.25)\n",
    "#plt.show()\n",
    "plt.savefig(\"AgBH_full_corrected.pdf\")"
   ]
  },
  {
   "cell_type": "code",
   "execution_count": 49,
   "metadata": {},
   "outputs": [
    {
     "data": {
      "image/png": "[encoded data removed]",
      "text/plain": [
       "<matplotlib.figure.Figure at 0x1152c9ef0>"
      ]
     },
     "metadata": {},
     "output_type": "display_data"
    }
   ],
   "source": [
    "# Plotting them together\n",
    "q_AgBH_full = []\n",
    "int_AgBH_full = []\n",
    "\n",
    "for i in range(len(q_AgBH_21)):\n",
    "    x = (q_AgBH_21[i] + q_AgBH_24[i])/2\n",
    "    q_AgBH_full.append(x)\n",
    "    y = int_AgBH_21[i] + new_int_AgBH_24[i]\n",
    "    int_AgBH_full.append(y)\n",
    "\n",
    "plt.cla()\n",
    "plt.clf()\n",
    "#plt.subplot(2, 1, 1)\n",
    "plt.plot(q_AgBH_full, int_AgBH_full, 'g')\n",
    "#plt.xlabel(\"$q/Angstrom$\")\n",
    "#plt.ylabel(\"Intensity\")\n",
    "#plt.title(\"AgBH full\")\n",
    "plt.xlim(0,2.25)\n",
    "#plt.subplot(2, 1, 2)\n",
    "#plt.plot(q_AgBH_21, int_AgBH_21, 'r')\n",
    "#plt.plot(q_AgBH_24, new_int_AgBH_24, 'b')\n",
    "plt.xlabel(\"$q/Angstrom$\")\n",
    "plt.ylabel(\"Intensity\")\n",
    "plt.show()\n",
    "#plt.savefig(\"AgBH_full_done.pdf\")"
   ]
  },
  {
   "cell_type": "code",
   "execution_count": null,
   "metadata": {
    "collapsed": true
   },
   "outputs": [],
   "source": []
  },
  {
   "cell_type": "code",
   "execution_count": 41,
   "metadata": {
    "collapsed": true
   },
   "outputs": [],
   "source": [
    "# Stretched PET 21 + stretched PET 24"
   ]
  },
  {
   "cell_type": "code",
   "execution_count": 42,
   "metadata": {},
   "outputs": [],
   "source": [
    "# Plotting them uncorrected\n",
    "plt.cla()\n",
    "plt.clf()\n",
    "plt.subplot(2, 1, 1)\n",
    "plt.plot(q_PET_stretch_21, int_PET_stretch_21, 'r')\n",
    "plt.xlabel(\"$q/Angstrom$\")\n",
    "plt.ylabel(\"Intensity\")\n",
    "plt.subplot(2, 1, 2)\n",
    "plt.plot(q_PET_stretch_24, int_PET_stretch_24, 'b')\n",
    "plt.xlabel(\"$q/Angstrom$\")\n",
    "plt.ylabel(\"Intensity\")\n",
    "#plt.title(\"PET full\")\n",
    "plt.xlim(0,2.25)\n",
    "#plt.show()\n",
    "plt.savefig(\"Streched_PET_full_uncorrected.pdf\")"
   ]
  },
  {
   "cell_type": "code",
   "execution_count": 43,
   "metadata": {
    "collapsed": true
   },
   "outputs": [],
   "source": [
    "# Factor the intensities up:\n",
    "factor_PET_stretch = 0.06/0.0010 \n",
    "new_int_PET_stretch_24 = []\n",
    "\n",
    "for i in range(len(int_PET_stretch_24)):\n",
    "    x = int_PET_stretch_24[i]*factor_PET_stretch\n",
    "    new_int_PET_stretch_24.append(x)"
   ]
  },
  {
   "cell_type": "code",
   "execution_count": 44,
   "metadata": {},
   "outputs": [],
   "source": [
    "# Plotting new corrected plots\n",
    "plt.cla()\n",
    "plt.clf()\n",
    "#plt.subplot(2, 1, 1)\n",
    "plt.plot(q_PET_stretch_21, int_PET_stretch_21, 'r', label='Stretched PET WAXS')\n",
    "#plt.xlabel(\"$q/Angstrom$\")\n",
    "#plt.ylabel(\"Intensity\")\n",
    "#plt.subplot(2, 1, 2)\n",
    "plt.plot(q_PET_stretch_24, new_int_PET_stretch_24, 'b', label='Stretched PET SAXS')\n",
    "plt.xlabel(\"$q/Angstrom$\")\n",
    "plt.ylabel(\"Intensity\")\n",
    "plt.legend()\n",
    "#plt.title(\"PET stretch full\")\n",
    "plt.xlim(0,2.25)\n",
    "#plt.show()\n",
    "plt.savefig(\"PET_stretch_full_corrected.pdf\")"
   ]
  },
  {
   "cell_type": "code",
   "execution_count": 139,
   "metadata": {},
   "outputs": [
    {
     "data": {
      "image/png": "[encoded data removed]",
      "text/plain": [
       "<matplotlib.figure.Figure at 0x1137c3d68>"
      ]
     },
     "metadata": {},
     "output_type": "display_data"
    }
   ],
   "source": [
    "# Plotting them together\n",
    "q_PET_stretch_full = []\n",
    "int_PET_stretch_full = []\n",
    "\n",
    "for i in range(len(q_PET_stretch_21)):\n",
    "    x = (q_PET_stretch_21[i] + q_PET_stretch_24[i])/2\n",
    "    q_PET_stretch_full.append(x)\n",
    "    y = int_PET_stretch_21[i] + new_int_PET_stretch_24[i]\n",
    "    int_PET_stretch_full.append(y)\n",
    "\n",
    "plt.cla()\n",
    "plt.clf()\n",
    "#plt.subplot(2, 1, 1)\n",
    "plt.plot(q_PET_stretch_full, int_PET_stretch_full, 'g')\n",
    "#plt.xlabel(\"$q/Angstrom$\")\n",
    "#plt.ylabel(\"Intensity\")\n",
    "#plt.title(\"PET stretch full\")\n",
    "plt.xlim(0,2.25)\n",
    "#plt.xlim(1, 1.5)\n",
    "#plt.subplot(2, 1, 2)\n",
    "#plt.plot(q_PET_stretch_21, int_PET_stretch_21, 'r--')\n",
    "#plt.plot(q_PET_stretch_24, new_int_PET_stretch_24, 'b--')\n",
    "plt.xlabel(\"$q/Angstrom$\")\n",
    "plt.ylabel(\"Intensity\")\n",
    "plt.show()\n",
    "#plt.savefig(\"PET_stretch_full_done.pdf\")"
   ]
  },
  {
   "cell_type": "code",
   "execution_count": null,
   "metadata": {
    "collapsed": true
   },
   "outputs": [],
   "source": []
  },
  {
   "cell_type": "code",
   "execution_count": null,
   "metadata": {
    "collapsed": true
   },
   "outputs": [],
   "source": [
    "# Fitting a gauss to the PET"
   ]
  },
  {
   "cell_type": "code",
   "execution_count": 58,
   "metadata": {
    "collapsed": true
   },
   "outputs": [],
   "source": [
    "# Gauss fit:\n",
    "def gauss(x, my, sig):\n",
    "    y = 1/(sig*math.sqrt(2*math.pi))*math.exp(-(1/2)*((x-my)/sig)**2)\n",
    "    return y\n",
    "    "
   ]
  },
  {
   "cell_type": "code",
   "execution_count": 128,
   "metadata": {},
   "outputs": [],
   "source": [
    "fit = []\n",
    "for i in range(len(int_PET_full)):\n",
    "    m = gauss(q_PET_full[i], 1.156, 0.04)\n",
    "    n = m/(factor_PET*3.85)\n",
    "    fit.append(n)\n",
    "    #fit.append(m)\n"
   ]
  },
  {
   "cell_type": "code",
   "execution_count": 198,
   "metadata": {},
   "outputs": [
    {
     "data": {
      "image/png": "[encoded data removed]",
      "text/plain": [
       "<matplotlib.figure.Figure at 0x115271b00>"
      ]
     },
     "metadata": {},
     "output_type": "display_data"
    }
   ],
   "source": [
    "plt.cla()\n",
    "plt.clf()\n",
    "plt.plot(q_PET_full, int_PET_full, 'g', label='PET Scattering')\n",
    "plt.plot(q_PET_full, fit, 'r', label='Gauss Fit')\n",
    "plt.xlim(0,2.25)\n",
    "#plt.xlim(1, 1.3)\n",
    "plt.xlabel(\"$q/Angstrom$\")\n",
    "plt.ylabel(\"Intensity\")\n",
    "plt.legend()\n",
    "plt.show()\n",
    "#plt.savefig(\"PET_gauss_fit.pdf\")"
   ]
  },
  {
   "cell_type": "code",
   "execution_count": null,
   "metadata": {},
   "outputs": [],
   "source": []
  },
  {
   "cell_type": "code",
   "execution_count": 137,
   "metadata": {},
   "outputs": [
    {
     "name": "stdout",
     "output_type": "stream",
     "text": [
      "Part of crystal vs. amorphous:  11.608513014410272 %\n"
     ]
    }
   ],
   "source": [
    "integral_int = 0\n",
    "integral_gauss = 0\n",
    "\n",
    "for i in range(len(int_PET_full)):\n",
    "    m = -int_PET_full[i] * (q_PET_full[i] - (q_PET_full[i]+0.005))\n",
    "    integral_int += m\n",
    "\n",
    "for i in range(len(int_PET_full)):\n",
    "    m = -fit[i] * (q_PET_full[i] - (q_PET_full[i]+0.005))\n",
    "    integral_gauss += m\n",
    "    \n",
    "print('Part of crystal vs. amorphous: ', 100*integral_gauss/integral_int, '%')"
   ]
  },
  {
   "cell_type": "code",
   "execution_count": null,
   "metadata": {
    "collapsed": true
   },
   "outputs": [],
   "source": []
  },
  {
   "cell_type": "code",
   "execution_count": null,
   "metadata": {
    "collapsed": true
   },
   "outputs": [],
   "source": [
    "# Fitting a gauss to the stretched PET"
   ]
  },
  {
   "cell_type": "code",
   "execution_count": 178,
   "metadata": {
    "collapsed": true
   },
   "outputs": [],
   "source": [
    "fit_1 = []\n",
    "for i in range(len(int_PET_full)):\n",
    "    m = gauss(q_PET_full[i], 1.17, 0.02)\n",
    "    n = m/(factor_PET*1.18)\n",
    "    fit_1.append(n)\n",
    "    #fit.append(m)\n",
    "\n",
    "fit_2 = []\n",
    "for i in range(len(int_PET_full)):\n",
    "    m = gauss(q_PET_full[i], 1.26, 0.02)\n",
    "    n = m/(factor_PET*1.2)\n",
    "    fit_2.append(n)\n",
    "    #fit.append(m)"
   ]
  },
  {
   "cell_type": "code",
   "execution_count": 202,
   "metadata": {},
   "outputs": [
    {
     "data": {
      "image/png": "[encoded data removed]",
      "text/plain": [
       "<matplotlib.figure.Figure at 0x115105588>"
      ]
     },
     "metadata": {},
     "output_type": "display_data"
    }
   ],
   "source": [
    "plt.cla()\n",
    "plt.clf()\n",
    "plt.plot(q_PET_stretch_full, int_PET_stretch_full, 'g', label='Stretched PET Scattering')\n",
    "plt.plot(q_PET_full, fit_1, 'r', label='Gauss Fit 1')\n",
    "plt.plot(q_PET_full, fit_2, 'b', label='Gauss Fit 2')\n",
    "plt.xlim(0,2.25)\n",
    "#plt.xlim(1, 1.3)\n",
    "plt.xlabel(\"$q/Angstrom$\")\n",
    "plt.ylabel(\"Intensity\")\n",
    "plt.legend()\n",
    "plt.show()\n",
    "#plt.savefig(\"PET_stretched_gauss_fit.pdf\")"
   ]
  },
  {
   "cell_type": "code",
   "execution_count": 182,
   "metadata": {},
   "outputs": [
    {
     "name": "stdout",
     "output_type": "stream",
     "text": [
      "Part of crystal vs. amorphous:  9.268703326199525 %\n"
     ]
    }
   ],
   "source": [
    "integral_int_1 = 0\n",
    "integral_gauss_1 = 0\n",
    "integral_gauss_2 = 0\n",
    "\n",
    "for i in range(len(int_PET_stretch_full)):\n",
    "    m = -int_PET_stretch_full[i] * (q_PET_stretch_full[i] - (q_PET_stretch_full[i]+0.005))\n",
    "    integral_int_1 += m\n",
    "\n",
    "for i in range(len(int_PET_stretch_full)):\n",
    "    m = -fit_1[i] * (q_PET_stretch_full[i] - (q_PET_stretch_full[i]+0.005))\n",
    "    integral_gauss_1 += m\n",
    "    \n",
    "for i in range(len(int_PET_stretch_full)):\n",
    "    m = -fit_2[i] * (q_PET_stretch_full[i] - (q_PET_stretch_full[i]+0.005))\n",
    "    integral_gauss_2 += m\n",
    "    \n",
    "print('Part of crystal vs. amorphous: ', 100*(integral_gauss_1+integral_gauss_2)/integral_int_1, '%')"
   ]
  },
  {
   "cell_type": "code",
   "execution_count": null,
   "metadata": {
    "collapsed": true
   },
   "outputs": [],
   "source": []
  }
 ],
 "metadata": {
  "kernelspec": {
   "display_name": "Python 3",
   "language": "python",
   "name": "python3"
  },
  "language_info": {
   "codemirror_mode": {
    "name": "ipython",
    "version": 3
   },
   "file_extension": ".py",
   "mimetype": "text/x-python",
   "name": "python",
   "nbconvert_exporter": "python",
   "pygments_lexer": "ipython3",
   "version": "3.6.3"
  }
 },
 "nbformat": 4,
 "nbformat_minor": 2
}
